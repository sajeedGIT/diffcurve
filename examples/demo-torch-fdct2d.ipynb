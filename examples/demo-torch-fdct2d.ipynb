{
 "cells": [
  {
   "cell_type": "code",
   "execution_count": null,
   "metadata": {},
   "outputs": [
    {
     "ename": "",
     "evalue": "",
     "output_type": "error",
     "traceback": [
      "\u001b[1;31mThe kernel failed to start due to the missing module 'imp'. Consider installing this module.\n",
      "\u001b[1;31mClick <a href='https://aka.ms/kernelFailuresMissingModule'>here</a> for more info."
     ]
    }
   ],
   "source": [
    "\n",
    "\n",
    "import os\n",
    "import matlab.engine # the matlab engine for python\n",
    "import cv2\n",
    "import numpy as np\n",
    "from pathlib import Path\n",
    "from diffcurve.plot_utils import plot_images, remove_frame\n",
    "import matplotlib.pyplot as plt\n",
    "from diffcurve.fdct2d.curvelet_2d import get_curvelet_system\n",
    "from diffcurve.utils import get_project_root\n",
    "from diffcurve.fdct2d.torch_frontend import torch_fdct_2d, torch_ifdct_2d\n",
    "import torch\n",
    "from diffcurve.fdct2d.numpy_frontend import perform_ifft2\n",
    "\n"
   ]
  },
  {
   "attachments": {},
   "cell_type": "markdown",
   "metadata": {},
   "source": [
    "## Sample image"
   ]
  },
  {
   "cell_type": "code",
   "execution_count": null,
   "metadata": {},
   "outputs": [],
   "source": [
    "\n",
    "project_root = get_project_root()\n",
    "\n",
    "lena_file = Path.joinpath(project_root, \"data/Lena.jpg\")\n",
    "\n",
    "lena_img = cv2.imread(str(lena_file), 0).astype(float) / 255\n",
    "\n",
    "plt.figure(figsize = (3,3))\n",
    "plt.imshow(lena_img, cmap = 'gray')"
   ]
  },
  {
   "attachments": {},
   "cell_type": "markdown",
   "metadata": {},
   "source": [
    "## Get the curvelet system"
   ]
  },
  {
   "cell_type": "code",
   "execution_count": null,
   "metadata": {},
   "outputs": [],
   "source": [
    "\n",
    "dct_kwargs = {\n",
    "    'is_real': 0.0, # complex-valued curvelets\n",
    "    'finest': 2.0, # use wavelets at the finest level\n",
    "    'nbscales': 6.0,\n",
    "    'nbangles_coarse': 16.0}\n",
    "\n",
    "\n",
    "curvelet_system, curvelet_coeff_dim = get_curvelet_system(lena_img.shape[0],\n",
    "                                                          lena_img.shape[1],\n",
    "                                                          dct_kwargs)\n",
    "\n",
    "curvelet_support_size =  np.prod(np.array(curvelet_coeff_dim), 1)"
   ]
  },
  {
   "attachments": {},
   "cell_type": "markdown",
   "metadata": {},
   "source": [
    "## Show a curvelet"
   ]
  },
  {
   "cell_type": "code",
   "execution_count": null,
   "metadata": {},
   "outputs": [],
   "source": [
    "curvelet_idx = 1\n",
    "fig, axes = plt.subplots(1, 2)\n",
    "\n",
    "\n",
    "axes[0].imshow( (curvelet_system[curvelet_idx]).real, cmap='gray')\n",
    "axes[0].set_title('freq')\n",
    "\n",
    "axes[1].imshow( perform_ifft2(curvelet_system[curvelet_idx]).real, cmap='gray')\n",
    "axes[1].set_title('spatial')"
   ]
  },
  {
   "attachments": {},
   "cell_type": "markdown",
   "metadata": {},
   "source": [
    "## Run the curvelet transform and its inverse"
   ]
  },
  {
   "cell_type": "code",
   "execution_count": null,
   "metadata": {},
   "outputs": [],
   "source": [
    "torch_coeff = torch_fdct_2d(torch.from_numpy(lena_img),\n",
    "                            torch.from_numpy(curvelet_system))\n",
    "\n",
    "torch_decomp = torch_ifdct_2d(torch_coeff, torch.from_numpy(curvelet_system),\n",
    "                              torch.from_numpy(curvelet_support_size ) )\n",
    "\n",
    "coeff = np.array(torch_coeff.detach().cpu())\n",
    "decomp = np.array(torch_decomp.detach().cpu())\n"
   ]
  },
  {
   "attachments": {},
   "cell_type": "markdown",
   "metadata": {},
   "source": [
    "## Show some curvelet coeffs"
   ]
  },
  {
   "cell_type": "code",
   "execution_count": null,
   "metadata": {},
   "outputs": [],
   "source": [
    "num_curvelets_to_show = 25\n",
    "\n",
    "\n",
    "curvelets_coeff_to_show = [\n",
    "    coeff[curvelet_idx].real.T for curvelet_idx in range(num_curvelets_to_show) ]\n",
    "\n",
    "\n",
    "im, axes = plot_images(curvelets_coeff_to_show, nrows = 5, ncols = 5,\n",
    "                       vrange = 'individual', cbar='none', cmap='gray',\n",
    "                       fig_size = (6, 6))\n",
    "\n",
    "[remove_frame(ax) for ax in axes.flatten()];"
   ]
  },
  {
   "attachments": {},
   "cell_type": "markdown",
   "metadata": {},
   "source": [
    "## Show some weighted curvelets"
   ]
  },
  {
   "cell_type": "code",
   "execution_count": null,
   "metadata": {},
   "outputs": [],
   "source": [
    "\n",
    "\n",
    "weighted_curvelets_to_show = [\n",
    "    decomp[curvelet_idx].real.T for curvelet_idx in range(num_curvelets_to_show) ]\n",
    "\n",
    "\n",
    "im, axes = plot_images(weighted_curvelets_to_show, nrows = 5, ncols = 5,\n",
    "                       vrange = 'individual', cbar='none', cmap='gray',\n",
    "                       fig_size = (6, 6))\n",
    "\n",
    "[remove_frame(ax) for ax in axes.flatten()];"
   ]
  },
  {
   "attachments": {},
   "cell_type": "markdown",
   "metadata": {},
   "source": [
    "## Show the reconstructed image from the curvelet transform"
   ]
  },
  {
   "cell_type": "code",
   "execution_count": null,
   "metadata": {},
   "outputs": [],
   "source": [
    "fig, axes = plt.subplots(1, 3)\n",
    "\n",
    "axes[0].imshow(lena_img , cmap='gray' )\n",
    "axes[0].set_title('input')\n",
    "\n",
    "axes[1].imshow( decomp.sum(0).real, cmap='gray' )\n",
    "axes[1].set_title('recon')\n",
    "\n",
    "mse = np.mean( (decomp.sum(0).real - lena_img) ** 2 )\n",
    "axes[2].imshow( np.abs(decomp.sum(0).real - lena_img), cmap='gray' )\n",
    "axes[2].set_title(f'|recon - input|')\n",
    "\n",
    "print(f'MSE = { mse}')\n",
    "\n",
    "[remove_frame(ax) for ax in axes.flatten()];"
   ]
  },
  {
   "cell_type": "code",
   "execution_count": null,
   "metadata": {},
   "outputs": [],
   "source": []
  }
 ],
 "metadata": {
  "kernelspec": {
   "display_name": "Python 3",
   "language": "python",
   "name": "python3"
  },
  "language_info": {
   "codemirror_mode": {
    "name": "ipython",
    "version": 3
   },
   "file_extension": ".py",
   "mimetype": "text/x-python",
   "name": "python",
   "nbconvert_exporter": "python",
   "pygments_lexer": "ipython3",
   "version": "3.12.6"
  }
 },
 "nbformat": 4,
 "nbformat_minor": 2
}
